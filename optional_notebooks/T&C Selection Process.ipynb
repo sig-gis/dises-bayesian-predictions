{
 "cells": [
  {
   "cell_type": "markdown",
   "id": "a4a97811-0587-4253-982d-a021931ccb35",
   "metadata": {},
   "source": [
    "# Treatmet and control selection threshold"
   ]
  },
  {
   "cell_type": "markdown",
   "id": "052d031c-4531-4699-969f-a9a624cc598c",
   "metadata": {},
   "source": [
    "Defining control grids based on the percentage of overlap between treatment and control areas can provide a more nuanced approach. Below are several alternative options and methods for refining control grid definitions:"
   ]
  },
  {
   "cell_type": "code",
   "execution_count": 1,
   "id": "b005def0-4ab0-4bc7-a32a-69d6cd098aff",
   "metadata": {},
   "outputs": [],
   "source": [
    "import os"
   ]
  },
  {
   "cell_type": "code",
   "execution_count": 2,
   "id": "cde2ab62-b0ca-4abd-a0ac-19624ae2e154",
   "metadata": {},
   "outputs": [],
   "source": [
    "country = 'KHM'\n",
    "os.chdir('/Users/Daniel/Library/CloudStorage/GoogleDrive-dwiesner@sig-gis.com/My Drive/DISES/batched-predictions-branch')"
   ]
  },
  {
   "cell_type": "code",
   "execution_count": 3,
   "id": "3ff0ab3c-d445-4a1c-95f1-320f3b2050f0",
   "metadata": {},
   "outputs": [],
   "source": [
    "import geopandas as gpd\n",
    "import matplotlib.patches as mpatches\n",
    "import contextily as ctx\n",
    "import matplotlib.pyplot as plt\n",
    "import pandas as pd\n",
    "from shapely.validation import make_valid\n",
    "import functions as fn"
   ]
  },
  {
   "cell_type": "code",
   "execution_count": 4,
   "id": "294266e2-7bb7-43d9-ba61-6844985ae13d",
   "metadata": {
    "tags": []
   },
   "outputs": [
    {
     "ename": "NameError",
     "evalue": "name 'data_folder' is not defined",
     "output_type": "error",
     "traceback": [
      "\u001b[0;31m---------------------------------------------------------------------------\u001b[0m",
      "\u001b[0;31mNameError\u001b[0m                                 Traceback (most recent call last)",
      "Cell \u001b[0;32mIn[4], line 2\u001b[0m\n\u001b[1;32m      1\u001b[0m \u001b[38;5;66;03m# Load the shape file with geographic covariates\u001b[39;00m\n\u001b[0;32m----> 2\u001b[0m initial_shape_path \u001b[38;5;241m=\u001b[39m os\u001b[38;5;241m.\u001b[39mpath\u001b[38;5;241m.\u001b[39mjoin(\u001b[43mdata_folder\u001b[49m, country, \u001b[38;5;124m'\u001b[39m\u001b[38;5;124mpanel/panel-khm-02082024-v2.shp\u001b[39m\u001b[38;5;124m'\u001b[39m)\n\u001b[1;32m      3\u001b[0m gdf \u001b[38;5;241m=\u001b[39m gpd\u001b[38;5;241m.\u001b[39mread_file(initial_shape_path)\n\u001b[1;32m      4\u001b[0m project_crs \u001b[38;5;241m=\u001b[39m \u001b[38;5;124m'\u001b[39m\u001b[38;5;124m32648\u001b[39m\u001b[38;5;124m'\u001b[39m \u001b[38;5;66;03m#Metric crs ideal for cambodia\u001b[39;00m\n",
      "\u001b[0;31mNameError\u001b[0m: name 'data_folder' is not defined"
     ]
    }
   ],
   "source": [
    "# Load the shape file with geographic covariates\n",
    "initial_shape_path = os.path.join(data_folder, country, 'panel/panel-khm-02082024-v2.shp')\n",
    "gdf = gpd.read_file(initial_shape_path)\n",
    "project_crs = '32648' #Metric crs ideal for cambodia"
   ]
  },
  {
   "cell_type": "code",
   "execution_count": null,
   "id": "82a1c7ff-afb7-4501-ab7b-3082745122c7",
   "metadata": {},
   "outputs": [],
   "source": [
    "#Filter for only the necessary covariates\n",
    "gdf = gdf[['grid_id', 'cf_buffer5', 'geometry']]"
   ]
  },
  {
   "cell_type": "code",
   "execution_count": null,
   "id": "69485e6d-e863-462c-a4ae-5ea37e2d7b38",
   "metadata": {},
   "outputs": [],
   "source": [
    "gdf = gdf.to_crs(project_crs)"
   ]
  },
  {
   "cell_type": "code",
   "execution_count": null,
   "id": "4fedfc84-63b1-43d5-a5a8-65964f6291cc",
   "metadata": {},
   "outputs": [],
   "source": [
    "#Load treatment and control from Roberto\n",
    "tc = gpd.read_file('/Users/Daniel/Library/CloudStorage/GoogleDrive-dwiesner@sig-gis.com/.shortcut-targets-by-id/1Y83sGckPnURtqsg-y0FRgK1eOjNe7TSz/DISES shared/Data/Postmatching/treat_controls/CountryPSM_relevant.shp')\n",
    "\n",
    "#Change crs to pcrs\n",
    "tc = tc.to_crs(project_crs)"
   ]
  },
  {
   "cell_type": "markdown",
   "id": "a3631aeb-be7c-40bd-b4fb-42895e438e35",
   "metadata": {},
   "source": [
    "### **1. Using Overlap Percentages**\n",
    "You can calculate the proportion of each grid cell covered by treatment and control areas and classify them based on thresholds:\n",
    "\n",
    "1. **Calculate Area Overlap**:\n",
    "   - Use `geopandas.overlay()` or `shapely` to calculate the intersection areas between grids and treatment/control areas.\n",
    "   - Compute the percentage overlap for each grid with respect to its total area.\n",
    "\n",
    "2. **Define Rules**:\n",
    "   - Classify grids as control if a significant portion (e.g., >50%) of the grid overlaps with a control area but less than a certain threshold overlaps with treatment.\n"
   ]
  },
  {
   "cell_type": "code",
   "execution_count": null,
   "id": "1bbbb04f-1be0-4dc7-959a-c2f7f89d0479",
   "metadata": {},
   "outputs": [],
   "source": [
    "# Convert to GeoDataFrames\n",
    "grid_gdf = gdf\n",
    "areas_gdf = tc\n",
    "\n",
    "# Validate geometries\n",
    "grid_gdf['geometry'] = grid_gdf['geometry'].apply(make_valid)\n",
    "areas_gdf['geometry'] = areas_gdf['geometry'].apply(make_valid)\n",
    "\n",
    "# Split treatment and control areas\n",
    "treatment_areas = areas_gdf[areas_gdf['treat'] == 1]\n",
    "control_areas = areas_gdf[areas_gdf['treat'] == 0]\n",
    "\n",
    "#Safe for empty intersections \n",
    "def safe_intersection(row, other_geometries):\n",
    "    try:\n",
    "        result = other_geometries.intersection(row.geometry).union_all()\n",
    "        return result.area if not result.is_empty else 0\n",
    "    except Exception:\n",
    "        return 0\n",
    "\n",
    "# Apply safe intersection\n",
    "grid_gdf['C_Inter_Area'] = grid_gdf.apply(\n",
    "    lambda row: safe_intersection(row, control_areas), axis=1\n",
    ")\n",
    "grid_gdf['T_Inter_Area'] = grid_gdf.apply(\n",
    "    lambda row: safe_intersection(row, treatment_areas), axis=1\n",
    ")\n",
    "\n",
    "# Calculate percentages\n",
    "grid_gdf['C_Percent'] = grid_gdf['C_Inter_Area'] / grid_gdf.geometry.area\n",
    "grid_gdf['T_Percent'] = grid_gdf['T_Inter_Area'] / grid_gdf.geometry.area\n",
    "\n",
    "#Save the gdf to a temporary location\n",
    "grid_gdf.to_file('temp_files/grid_gdf.shp')"
   ]
  },
  {
   "cell_type": "code",
   "execution_count": null,
   "id": "d006fb47-12d8-4b43-9395-57ae8a57bf1c",
   "metadata": {},
   "outputs": [],
   "source": [
    "grid_gdf = grid_gdf.to_crs('WGS84')"
   ]
  },
  {
   "cell_type": "code",
   "execution_count": null,
   "id": "75bce492-43af-4b6c-addf-29ce466043f5",
   "metadata": {},
   "outputs": [],
   "source": [
    "thresholds = [0.1, 0.15, 0.2, 0.25, 0.5, 0.75, 1] "
   ]
  },
  {
   "cell_type": "code",
   "execution_count": null,
   "id": "55b39a9b-818a-41e3-ad2b-c2970f020d5d",
   "metadata": {},
   "outputs": [],
   "source": [
    "for threshold in thresholds: \n",
    "    \n",
    "    grid_gdf['Treatment'] = 3  # Default\n",
    "    grid_gdf.loc[(grid_gdf['C_Percent'] > threshold), 'Treatment'] = 0\n",
    "    grid_gdf.loc[grid_gdf['T_Percent'] > threshold, 'Treatment'] = 1\n",
    "    \n",
    "    title = f'Treatment and control grids with {threshold*100}% overlap criterion'\n",
    "    fn.plot_treatment_control_grids(grid_gdf, 'Treatment', 'WGS84', title)"
   ]
  },
  {
   "cell_type": "markdown",
   "id": "ed9d5e10-555a-4368-9052-163a4ef8bf77",
   "metadata": {},
   "source": [
    "### **2. Weighted Overlap-Based Classification**\n",
    "Instead of binary thresholds, assign a score to each grid based on weighted overlaps with control and treatment areas:\n",
    "\n",
    "- Compute `Control_Score` and `Treatment_Score`:\n",
    "   \\[\n",
    "   \\text{Score} = \\frac{\\text{Overlap Area}}{\\text{Grid Area}}\n",
    "   \\]\n",
    "\n",
    "- Assign treatment status based on the dominance of these scores."
   ]
  },
  {
   "cell_type": "code",
   "execution_count": null,
   "id": "027b5f66-b73f-4dd4-8a39-b6e7b070f897",
   "metadata": {},
   "outputs": [],
   "source": [
    "import numpy as np"
   ]
  },
  {
   "cell_type": "code",
   "execution_count": null,
   "id": "a45a07bb-3283-4eea-a38d-4ac866478702",
   "metadata": {},
   "outputs": [],
   "source": [
    "# Assign Treatment\n",
    "grid_gdf['Treatment'] = np.where(\n",
    "    (grid_gdf['C_Percent'] == 0) & (grid_gdf['T_Percent'] == 0),\n",
    "    3,\n",
    "    grid_gdf[['C_Percent', 'T_Percent']].idxmax(axis=1).map({'C_Percent': 0, 'T_Percent': 1})\n",
    ")"
   ]
  },
  {
   "cell_type": "code",
   "execution_count": null,
   "id": "077f1697-ca05-4003-9e92-545a0bde95d8",
   "metadata": {},
   "outputs": [],
   "source": [
    "title = 'Treatment and control grids with max. % criterion'\n",
    "fn.plot_treatment_control_grids(grid_gdf, 'Treatment', 'WGS84', title)"
   ]
  },
  {
   "cell_type": "markdown",
   "id": "aafba761-dd8d-4ef9-ba64-c5f964a621f7",
   "metadata": {},
   "source": [
    "### 3. Classification of Villages based on Proximity\n"
   ]
  }
 ],
 "metadata": {
  "kernelspec": {
   "display_name": "Python 3 (ipykernel)",
   "language": "python",
   "name": "python3"
  },
  "language_info": {
   "codemirror_mode": {
    "name": "ipython",
    "version": 3
   },
   "file_extension": ".py",
   "mimetype": "text/x-python",
   "name": "python",
   "nbconvert_exporter": "python",
   "pygments_lexer": "ipython3",
   "version": "3.12.7"
  }
 },
 "nbformat": 4,
 "nbformat_minor": 5
}
