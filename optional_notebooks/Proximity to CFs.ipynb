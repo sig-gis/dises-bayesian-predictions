{
 "cells": [
  {
   "cell_type": "markdown",
   "id": "ec5d5401-c315-413c-b809-e76e9ff911e4",
   "metadata": {},
   "source": [
    "### CFs and forests definitions"
   ]
  },
  {
   "cell_type": "code",
   "execution_count": 1,
   "id": "b005def0-4ab0-4bc7-a32a-69d6cd098aff",
   "metadata": {},
   "outputs": [],
   "source": [
    "import os"
   ]
  },
  {
   "cell_type": "code",
   "execution_count": 2,
   "id": "cde2ab62-b0ca-4abd-a0ac-19624ae2e154",
   "metadata": {},
   "outputs": [],
   "source": [
    "country = 'KHM'\n",
    "os.chdir('/Users/Daniel/Library/CloudStorage/GoogleDrive-dwiesner@sig-gis.com/My Drive/DISES/batched-predictions-branch')\n",
    "data_folder = 'data/'"
   ]
  },
  {
   "cell_type": "code",
   "execution_count": 3,
   "id": "3cac055e-ca5e-41d8-ade4-7c2734c28868",
   "metadata": {},
   "outputs": [],
   "source": [
    "import geopandas as gpd\n",
    "import matplotlib.patches as mpatches\n",
    "import contextily as ctx\n",
    "import matplotlib.pyplot as plt\n",
    "import pandas as pd\n",
    "import functions as fn\n",
    "import rasterio\n",
    "from rasterio.plot import show"
   ]
  },
  {
   "cell_type": "markdown",
   "id": "d6d56d7c-2ddf-4f34-b460-68ec8a5eec59",
   "metadata": {},
   "source": [
    "- Acording to Roberto Toto, the file with the latest CF shapes is here:\n",
    "- 'DISES shared/Boundary and forest cover change sub-groups folder/Boundary Data/Cambodia/CF Boundary Cambodia/Cambodia Shapefile 5-2-2023/All Cambodia 599 CF 5-2-2023/All Cambodia 599 CF 5-2-2023.shp'"
   ]
  },
  {
   "cell_type": "code",
   "execution_count": 4,
   "id": "38bfbb52-eb39-4e5c-998b-985be4ab252c",
   "metadata": {},
   "outputs": [],
   "source": [
    "cfs_path = '/Users/Daniel/Library/CloudStorage/GoogleDrive-dwiesner@sig-gis.com/.shortcut-targets-by-id/1Y83sGckPnURtqsg-y0FRgK1eOjNe7TSz/DISES shared/Boundary and forest cover change sub-groups folder/Boundary Data/Cambodia/CF Boundary Cambodia/Cambodia Shapefile 5-2-2023/All Cambodia 599 CF 5-2-2023/All Cambodia 599 CF 5-2-2023.shp'\n",
    "cfs = gpd.read_file(cfs_path)"
   ]
  },
  {
   "cell_type": "code",
   "execution_count": 5,
   "id": "4fa4bff8-1832-4023-ad73-9801c3d587ff",
   "metadata": {},
   "outputs": [
    {
     "data": {
      "image/png": "[encoded data removed]",
      "text/plain": [
       "<Figure size 640x480 with 1 Axes>"
      ]
     },
     "metadata": {},
     "output_type": "display_data"
    }
   ],
   "source": [
    "fn.plot_histogram_with_mean(cfs, 'HECTARES', title='Histogram CFs Areas in Cambodia', bins=100)"
   ]
  },
  {
   "cell_type": "code",
   "execution_count": 6,
   "id": "05bc044f-6bd3-4e97-932b-bb762a045602",
   "metadata": {},
   "outputs": [
    {
     "data": {
      "text/plain": [
       "count      598.000000\n",
       "mean       908.693031\n",
       "std       1445.570607\n",
       "min          0.000000\n",
       "25%        129.698655\n",
       "50%        425.524700\n",
       "75%       1139.594066\n",
       "max      17889.384070\n",
       "Name: HECTARES, dtype: float64"
      ]
     },
     "execution_count": 6,
     "metadata": {},
     "output_type": "execute_result"
    }
   ],
   "source": [
    "#Find the smallest and the 25th percentile threshold\n",
    "cfs['HECTARES'].describe()"
   ]
  },
  {
   "cell_type": "markdown",
   "id": "f47c9641-135f-4b7b-be54-ddc0eb3d746a",
   "metadata": {},
   "source": [
    "### TTC for Cambodia\n",
    "- Aquí desde GDrive los archivos que fueron \"corregidos\" de acuerdo a pixeles de plantaciones: https://drive.google.com/drive/folders/18AM4jb5hmH9vsj_tD0rXLVvg7kt9z--K\n",
    "- El TCC modificado esta como bandas \"tcc'año'_new\""
   ]
  },
  {
   "cell_type": "code",
   "execution_count": 7,
   "id": "c5ffc7ef-016f-4cca-b058-67c61628c7ae",
   "metadata": {},
   "outputs": [],
   "source": [
    "year = 2005 #2005 is the base year for the matching process "
   ]
  },
  {
   "cell_type": "code",
   "execution_count": 8,
   "id": "fe9d58f2-49ea-4a4b-a354-4dbba8e79360",
   "metadata": {},
   "outputs": [],
   "source": [
    "tcc_path = os.path.join(data_folder, f'TCC_Adjusted_Images/TCC_PlantAdjusted_30m_{year}.tif')"
   ]
  },
  {
   "cell_type": "code",
   "execution_count": 9,
   "id": "a12e6f5e-4142-47c4-a5db-216872eae7e9",
   "metadata": {},
   "outputs": [
    {
     "data": {
      "text/plain": [
       "'data/TCC_Adjusted_Images/TCC_PlantAdjusted_30m_2005.tif'"
      ]
     },
     "execution_count": 9,
     "metadata": {},
     "output_type": "execute_result"
    }
   ],
   "source": [
    "tcc_path"
   ]
  },
  {
   "cell_type": "code",
   "execution_count": 9,
   "id": "cf22f2e4-53b2-4ec1-b36d-2c2e12839436",
   "metadata": {},
   "outputs": [],
   "source": [
    "%load_ext autoreload\n",
    "%autoreload 2"
   ]
  },
  {
   "cell_type": "code",
   "execution_count": 10,
   "id": "c49e945d-88fe-4a93-9cfc-eb2d37fbec0a",
   "metadata": {},
   "outputs": [],
   "source": [
    "#Clip the tcc raster to exclude areas already designated as CF\n",
    "clipped_raster_path = 'temp_files/clipped_tcc.tif'"
   ]
  },
  {
   "cell_type": "code",
   "execution_count": 11,
   "id": "39d04f7c-74fc-4961-8a58-5ea4db2ec897",
   "metadata": {},
   "outputs": [],
   "source": [
    "fn.clip_raster_exclude_shape(tcc_path, cfs_path, clipped_raster_path)"
   ]
  },
  {
   "cell_type": "markdown",
   "id": "cf17d71a-b540-4299-8f17-30c393da73de",
   "metadata": {},
   "source": [
    "### Indentification of forested areas"
   ]
  },
  {
   "cell_type": "code",
   "execution_count": 12,
   "id": "e7085a07-9c15-4a07-aac8-938954f34575",
   "metadata": {},
   "outputs": [],
   "source": [
    "import rasterio\n",
    "import numpy as np\n",
    "from scipy.ndimage import label, measurements\n",
    "import geopandas as gpd\n",
    "from shapely.geometry import Polygon\n",
    "\n",
    "def filter_raster_by_percentage_and_area(raster_path, percentage, min_area_hectares, return_shapefile=False, output_shapefile_path=None):\n",
    "    \"\"\"\n",
    "    Identifies zones in a raster where pixels exceed a percentage threshold and\n",
    "    have a minimum contiguous area in hectares. Optionally returns a shapefile of the zones.\n",
    "\n",
    "    Parameters:\n",
    "        raster_path (str): Path to the input raster file.\n",
    "        percentage (float): Percentage threshold for pixel values.\n",
    "        min_area_hectares (float): Minimum area of zones to identify, in hectares.\n",
    "        return_shapefile (bool): If True, returns a shapefile of the zones.\n",
    "        output_shapefile_path (str): Path to save the output shapefile (required if return_shapefile is True).\n",
    "\n",
    "    Returns:\n",
    "        numpy.ndarray or None: Binary array with 1 indicating valid zones and 0 otherwise (if return_shapefile is False).\n",
    "    \"\"\"\n",
    "    with rasterio.open(raster_path) as src:\n",
    "        raster_data = src.read(1)  # Read the first band\n",
    "        transform = src.transform\n",
    "\n",
    "        # Calculate pixel area in square meters from raster resolution\n",
    "        pixel_width = src.res[0]  # Width of a pixel in meters\n",
    "        pixel_height = src.res[1]  # Height of a pixel in meters\n",
    "        pixel_area_m2 = pixel_width * pixel_height\n",
    "\n",
    "        # Create a binary mask of pixels exceeding the percentage threshold\n",
    "        binary_mask = raster_data > percentage\n",
    "\n",
    "        structure_4 = np.array([[0, 1, 0], \n",
    "                        [1, 1, 1], \n",
    "                        [0, 1, 0]])\n",
    "        labeled_array, num_features = label(binary_mask, structure=structure_4)  # Use 4-connectivity\n",
    "\n",
    "\n",
    "        # Calculate pixel areas in hectares\n",
    "        min_area_pixels = (min_area_hectares * 10_000) / pixel_area_m2\n",
    "\n",
    "        # Initialize an output mask for valid zones\n",
    "        valid_zones = np.zeros_like(raster_data, dtype=np.uint8)\n",
    "\n",
    "        geometries = []\n",
    "\n",
    "        # Vectorized region processing\n",
    "        region_areas = measurements.sum(binary_mask, labeled_array, index=np.arange(1, num_features + 1))\n",
    "        large_regions = np.where(region_areas >= min_area_pixels)[0] + 1\n",
    "\n",
    "        for region_label in large_regions:\n",
    "            region = labeled_array == region_label\n",
    "            valid_zones[region] = 1\n",
    "\n",
    "            if return_shapefile:\n",
    "                # Create a polygon for the region\n",
    "                mask = (labeled_array == region_label).astype(np.uint8)\n",
    "                shapes = rasterio.features.shapes(mask, transform=transform)\n",
    "                for shape, value in shapes:\n",
    "                    if value == 1:\n",
    "                        geometries.append(Polygon(shape['coordinates'][0]))\n",
    "\n",
    "        if return_shapefile:\n",
    "            if not output_shapefile_path:\n",
    "                raise ValueError(\"Output shapefile path must be provided if return_shapefile is True.\")\n",
    "\n",
    "            # Create a GeoDataFrame from the geometries\n",
    "            gdf = gpd.GeoDataFrame({\"geometry\": geometries}, crs=src.crs)\n",
    "            gdf.to_file(output_shapefile_path, driver=\"ESRI Shapefile\")\n",
    "\n",
    "            return None\n",
    "\n",
    "    return valid_zones"
   ]
  },
  {
   "cell_type": "code",
   "execution_count": null,
   "id": "33441c80-8470-46d7-b9f9-519323ac5107",
   "metadata": {},
   "outputs": [],
   "source": [
    "# Identify forested areas\n",
    "fa_shape_path = os.path.join('/Users/Daniel/Library/CloudStorage/GoogleDrive-dwiesner@sig-gis.com/My Drive/DISES/batched-predictions-branch/data/KHM/forested_areas', 'fa_70pc_129has_4conn.shp')\n",
    "filter_raster_by_percentage_and_area(clipped_raster_path, percentage=70, min_area_hectares=129, return_shapefile=True, output_shapefile_path=fa_shape_path)"
   ]
  },
  {
   "cell_type": "markdown",
   "id": "5d8ef7e1-7876-4270-903d-4b7c5fce94fe",
   "metadata": {},
   "source": [
    "### Definition of a forest"
   ]
  },
  {
   "cell_type": "code",
   "execution_count": null,
   "id": "640bf889-3929-40b9-b0c0-dc09d0e4ab32",
   "metadata": {},
   "outputs": [],
   "source": [
    "#Calculate avergae average level of TC in CFs:\n",
    "avg_value = fn.calculate_average_raster_value(tcc_path, cfs_path)\n",
    "print(f\"Average Value: {avg_value}\")"
   ]
  },
  {
   "cell_type": "markdown",
   "id": "813403ca-62ff-41bd-b05a-9df857e064e2",
   "metadata": {},
   "source": [
    "### Find villages closest to CFs\n",
    "\n",
    "- First we find the villages closest to each community forest and we consider those as treatment.\n",
    "- Then we take the treatment villages out and find the villages closest to either a CF or an FA, and consider them control. "
   ]
  },
  {
   "cell_type": "code",
   "execution_count": 13,
   "id": "2397a828-88b4-44cb-a6d9-fdf2f42e1424",
   "metadata": {},
   "outputs": [],
   "source": [
    "cfs_path = '/Users/Daniel/Library/CloudStorage/GoogleDrive-dwiesner@sig-gis.com/.shortcut-targets-by-id/1Y83sGckPnURtqsg-y0FRgK1eOjNe7TSz/DISES shared/Boundary and forest cover change sub-groups folder/Boundary Data/Cambodia/CF Boundary Cambodia/Cambodia Shapefile 5-2-2023/All Cambodia 599 CF 5-2-2023/All Cambodia 599 CF 5-2-2023.shp'\n",
    "cfs = gpd.read_file(cfs_path)"
   ]
  },
  {
   "cell_type": "code",
   "execution_count": 14,
   "id": "02969f15-91d9-459c-bf5b-8952b3514b68",
   "metadata": {},
   "outputs": [],
   "source": [
    "crs = cfs.crs"
   ]
  },
  {
   "cell_type": "code",
   "execution_count": 15,
   "id": "36566ff5-241a-43ed-9b85-805a6db19b35",
   "metadata": {},
   "outputs": [],
   "source": [
    "fa_shape_path = os.path.join('/Users/Daniel/Library/CloudStorage/GoogleDrive-dwiesner@sig-gis.com/My Drive/DISES/batched-predictions-branch/data/KHM/forested_areas', 'fa_70pc_129has_4conn.shp')\n",
    "fas = gpd.read_file(fa_shape_path)\n",
    "fas = fas.to_crs(crs)"
   ]
  },
  {
   "cell_type": "code",
   "execution_count": 16,
   "id": "654b9056-dbc2-45b0-a716-55f8a89c612a",
   "metadata": {
    "tags": []
   },
   "outputs": [],
   "source": [
    "#Import villages shape file \n",
    "vlgs_path = os.path.join('/Users/Daniel/Library/CloudStorage/GoogleDrive-dwiesner@sig-gis.com/.shortcut-targets-by-id/1UFnD8ofHi_4YXqnGCH4FLW8bapLdp4qX/DISES SIG/Dataset Information/Shapefiles/Cambodia_Admin-2015/Villages.shp')\n",
    "vlgs = gpd.read_file(vlgs_path)\n",
    "vlgs = fn.exclude_zero_coordinates(vlgs)\n",
    "vlgs = vlgs.to_crs(crs) #Check crs to make sure they are the same"
   ]
  },
  {
   "cell_type": "markdown",
   "id": "a0ba8846-9a3a-47f4-b37d-ba0c3fd32d99",
   "metadata": {},
   "source": [
    "#### Find the nearest villages"
   ]
  },
  {
   "cell_type": "code",
   "execution_count": 17,
   "id": "30ddd898-6d55-4df1-8292-17cf043ccd16",
   "metadata": {},
   "outputs": [],
   "source": [
    "from shapely.ops import nearest_points\n",
    "\n",
    "# Helper function to find the nearest village to a geometry\n",
    "def find_nearest(village_gdf, target_geom):\n",
    "    # Find the nearest point in the village dataset to the target geometry\n",
    "    nearest = village_gdf.iloc[village_gdf.distance(target_geom).idxmin()]\n",
    "    return nearest\n",
    "\n",
    "# 1. Find treatment villages (nearest to each CF)\n",
    "treatment_villages = []\n",
    "for _, cf_geom in cfs.iterrows():\n",
    "    nearest_village = find_nearest(vlgs, cf_geom.geometry)\n",
    "    treatment_villages.append(nearest_village)\n",
    "\n",
    "treatment_villages_gdf = gpd.GeoDataFrame(treatment_villages, crs=crs)\n",
    "\n",
    "treatment_path = os.path.join('/Users/Daniel/Library/CloudStorage/GoogleDrive-dwiesner@sig-gis.com/My Drive/DISES/batched-predictions-branch/data/KHM/treatment_contor_proximity/treatment_vlgs.shp')\n",
    "\n",
    "treatment_villages_gdf.to_file(treatment_path)"
   ]
  },
  {
   "cell_type": "code",
   "execution_count": 23,
   "id": "ac2dbc3f-848d-456a-be39-eee2ee6c2c4b",
   "metadata": {},
   "outputs": [],
   "source": [
    "#Exclude treatment villages from the dataset\n",
    "vlgs2 = vlgs[~vlgs['PHUMCODE'].isin(treatment_villages_gdf['PHUMCODE'])]"
   ]
  },
  {
   "cell_type": "code",
   "execution_count": 40,
   "id": "4947006e-0fea-4173-9cac-dc698047c771",
   "metadata": {},
   "outputs": [],
   "source": [
    "vlgs2 = vlgs2.reset_index(drop=True)"
   ]
  },
  {
   "cell_type": "code",
   "execution_count": 41,
   "id": "8cf0b145-3777-4381-984a-86ca5a5c04bf",
   "metadata": {},
   "outputs": [],
   "source": [
    "from shapely.validation import make_valid\n",
    "# Validate geometries to avoid topology errors\n",
    "cfs['geometry'] = cfs['geometry'].apply(make_valid)\n",
    "fas['geometry'] = fas['geometry'].apply(make_valid)"
   ]
  },
  {
   "cell_type": "code",
   "execution_count": 42,
   "id": "5269abe4-2753-436f-8b07-ca3cff9d99da",
   "metadata": {},
   "outputs": [],
   "source": [
    "gdf1 = cfs[['CF_Code', 'geometry']]\n",
    "gdf1.columns = ['FID', 'geometry']"
   ]
  },
  {
   "cell_type": "code",
   "execution_count": 43,
   "id": "4c7bdcc2-e0d7-4e7f-9ad1-cf6751fa84a7",
   "metadata": {},
   "outputs": [],
   "source": [
    "gdf2 = fas.copy(deep=True)"
   ]
  },
  {
   "cell_type": "code",
   "execution_count": 44,
   "id": "f8fc1460-2993-4486-85a0-963dc1fe3e22",
   "metadata": {},
   "outputs": [],
   "source": [
    "forests = pd.concat([gdf1, gdf2])"
   ]
  },
  {
   "cell_type": "code",
   "execution_count": 45,
   "id": "5bc96bf7-bc16-44fb-9d81-d7d5460efe97",
   "metadata": {},
   "outputs": [],
   "source": [
    "forests = forests.reset_index(drop=True)"
   ]
  },
  {
   "cell_type": "markdown",
   "id": "49c33ff0-95f8-4acb-9745-b1b9d7bd91d1",
   "metadata": {},
   "source": [
    "# 2. Find control villages (nearest to each CF)"
   ]
  },
  {
   "cell_type": "code",
   "execution_count": 46,
   "id": "9b263832-0c81-41d8-affe-1f95fd8a72a7",
   "metadata": {},
   "outputs": [],
   "source": [
    "# 1. Find treatment villages (nearest to each CF)\n",
    "control_villages = []\n",
    "\n",
    "for _, f_geom in forests.iterrows():\n",
    "    nearest_village = find_nearest(vlgs2, f_geom.geometry)\n",
    "    control_villages.append(nearest_village)"
   ]
  },
  {
   "cell_type": "code",
   "execution_count": 49,
   "id": "995d903e-269d-4556-a030-768754f40419",
   "metadata": {},
   "outputs": [],
   "source": [
    "control_villages_gdf = gpd.GeoDataFrame(control_villages, crs=crs)"
   ]
  },
  {
   "cell_type": "code",
   "execution_count": 51,
   "id": "9217523a-82a6-403b-bdd7-1fc2e04f4882",
   "metadata": {
    "tags": []
   },
   "outputs": [],
   "source": [
    "control_path = os.path.join('/Users/Daniel/Library/CloudStorage/GoogleDrive-dwiesner@sig-gis.com/My Drive/DISES/batched-predictions-branch/data/KHM/treatment_contor_proximity/control_vlgs.shp')\n",
    "control_villages_gdf.to_file(control_path)"
   ]
  },
  {
   "cell_type": "code",
   "execution_count": 75,
   "id": "35efb353-215c-401e-a286-1db7f634fe01",
   "metadata": {},
   "outputs": [],
   "source": [
    "#Create a gdf with treatment and control villages only\n",
    "treatment_villages_gdf['Treatment'] = 1\n",
    "control_villages_gdf['Treatment'] = 0\n",
    "\n",
    "vlgs3 = pd.concat([treatment_villages_gdf, control_villages_gdf])\n",
    "\n",
    "vlgs3 = vlgs3.reset_index(drop=True)\n",
    "\n",
    "vlgs3 = vlgs3[['NUMBER', 'PHUMCODE', 'VILLAGE', 'geometry',\n",
    "       'Treatment']]"
   ]
  },
  {
   "cell_type": "markdown",
   "id": "9029229d-8e1f-47a2-893b-a1820f41e9b6",
   "metadata": {},
   "source": [
    "#### Calculate distances from treatment and control villages"
   ]
  },
  {
   "cell_type": "code",
   "execution_count": 76,
   "id": "be21a06c-7fff-453b-a8c1-d3427b0e9cf8",
   "metadata": {},
   "outputs": [],
   "source": [
    "# Function to calculate distance to nearest geometry and add it as a column\n",
    "def calculate_distances(gdf1, gdf2, name):\n",
    "    \"\"\"\n",
    "    Calculates the distance from each geometry in gdf1 to the closest geometry in gdf2.\n",
    "\n",
    "    Parameters:\n",
    "        gdf1 (GeoDataFrame): GeoDataFrame containing geometries to calculate distances for.\n",
    "        gdf2 (GeoDataFrame): GeoDataFrame containing target geometries to calculate distances to.\n",
    "\n",
    "    Returns:\n",
    "        GeoDataFrame: Updated gdf1 with a new column 'nearest_distance' containing distances in meters.\n",
    "    \"\"\"\n",
    "    # Ensure both GeoDataFrames have the same CRS\n",
    "    if gdf1.crs != gdf2.crs:\n",
    "        gdf2 = gdf2.to_crs(gdf1.crs)\n",
    "\n",
    "    # Calculate distances to the nearest geometry in gdf2 for each geometry in gdf1\n",
    "    distances = gdf1.geometry.apply(lambda geom: gdf2.geometry.distance(geom).min())\n",
    "\n",
    "    # Add distances as a new column in gdf1\n",
    "    gdf1[name] = distances\n",
    "\n",
    "    return gdf1"
   ]
  },
  {
   "cell_type": "code",
   "execution_count": 77,
   "id": "8a222047-74ca-4565-b49c-e962f7910b6d",
   "metadata": {},
   "outputs": [],
   "source": [
    "vlgs3 = calculate_distances(vlgs3, cfs, 'dist_cf_m')"
   ]
  },
  {
   "cell_type": "code",
   "execution_count": 79,
   "id": "7bc9510b-19d5-49ba-8fe3-ea6512469e7c",
   "metadata": {},
   "outputs": [],
   "source": [
    "vlgs3 = calculate_distances(vlgs3, fas, 'dist_fa_m')"
   ]
  },
  {
   "cell_type": "code",
   "execution_count": 80,
   "id": "d6cd48f4-2759-44a4-8941-b93701eee0ed",
   "metadata": {},
   "outputs": [],
   "source": [
    "vlgs3 = calculate_distances(vlgs3, forests, 'dist_forest_m')"
   ]
  },
  {
   "cell_type": "code",
   "execution_count": 89,
   "id": "dda7346b-a7c8-4c77-bc57-93a08dadede2",
   "metadata": {},
   "outputs": [
    {
     "data": {
      "text/html": [
       "<div>\n",
       "<style scoped>\n",
       "    .dataframe tbody tr th:only-of-type {\n",
       "        vertical-align: middle;\n",
       "    }\n",
       "\n",
       "    .dataframe tbody tr th {\n",
       "        vertical-align: top;\n",
       "    }\n",
       "\n",
       "    .dataframe thead th {\n",
       "        text-align: right;\n",
       "    }\n",
       "</style>\n",
       "<table border=\"1\" class=\"dataframe\">\n",
       "  <thead>\n",
       "    <tr style=\"text-align: right;\">\n",
       "      <th></th>\n",
       "      <th>Treatment</th>\n",
       "      <th>0</th>\n",
       "      <th>1</th>\n",
       "    </tr>\n",
       "  </thead>\n",
       "  <tbody>\n",
       "    <tr>\n",
       "      <th rowspan=\"8\" valign=\"top\">dist_cf_m</th>\n",
       "      <th>count</th>\n",
       "      <td>982.00</td>\n",
       "      <td>598.00</td>\n",
       "    </tr>\n",
       "    <tr>\n",
       "      <th>mean</th>\n",
       "      <td>9852.79</td>\n",
       "      <td>1601.89</td>\n",
       "    </tr>\n",
       "    <tr>\n",
       "      <th>std</th>\n",
       "      <td>17790.72</td>\n",
       "      <td>1364.02</td>\n",
       "    </tr>\n",
       "    <tr>\n",
       "      <th>min</th>\n",
       "      <td>0.00</td>\n",
       "      <td>0.00</td>\n",
       "    </tr>\n",
       "    <tr>\n",
       "      <th>25%</th>\n",
       "      <td>1838.67</td>\n",
       "      <td>667.67</td>\n",
       "    </tr>\n",
       "    <tr>\n",
       "      <th>50%</th>\n",
       "      <td>3015.86</td>\n",
       "      <td>1268.91</td>\n",
       "    </tr>\n",
       "    <tr>\n",
       "      <th>75%</th>\n",
       "      <td>9182.92</td>\n",
       "      <td>2169.25</td>\n",
       "    </tr>\n",
       "    <tr>\n",
       "      <th>max</th>\n",
       "      <td>102656.87</td>\n",
       "      <td>9613.98</td>\n",
       "    </tr>\n",
       "    <tr>\n",
       "      <th rowspan=\"8\" valign=\"top\">dist_fa_m</th>\n",
       "      <th>count</th>\n",
       "      <td>982.00</td>\n",
       "      <td>598.00</td>\n",
       "    </tr>\n",
       "    <tr>\n",
       "      <th>mean</th>\n",
       "      <td>16360.28</td>\n",
       "      <td>23963.89</td>\n",
       "    </tr>\n",
       "    <tr>\n",
       "      <th>std</th>\n",
       "      <td>18446.15</td>\n",
       "      <td>20139.60</td>\n",
       "    </tr>\n",
       "    <tr>\n",
       "      <th>min</th>\n",
       "      <td>0.00</td>\n",
       "      <td>231.33</td>\n",
       "    </tr>\n",
       "    <tr>\n",
       "      <th>25%</th>\n",
       "      <td>4181.37</td>\n",
       "      <td>10051.96</td>\n",
       "    </tr>\n",
       "    <tr>\n",
       "      <th>50%</th>\n",
       "      <td>9899.75</td>\n",
       "      <td>18191.17</td>\n",
       "    </tr>\n",
       "    <tr>\n",
       "      <th>75%</th>\n",
       "      <td>21988.08</td>\n",
       "      <td>32477.26</td>\n",
       "    </tr>\n",
       "    <tr>\n",
       "      <th>max</th>\n",
       "      <td>164809.80</td>\n",
       "      <td>165894.83</td>\n",
       "    </tr>\n",
       "    <tr>\n",
       "      <th rowspan=\"8\" valign=\"top\">dist_forest_m</th>\n",
       "      <th>count</th>\n",
       "      <td>982.00</td>\n",
       "      <td>598.00</td>\n",
       "    </tr>\n",
       "    <tr>\n",
       "      <th>mean</th>\n",
       "      <td>2980.22</td>\n",
       "      <td>1565.88</td>\n",
       "    </tr>\n",
       "    <tr>\n",
       "      <th>std</th>\n",
       "      <td>2303.01</td>\n",
       "      <td>1312.31</td>\n",
       "    </tr>\n",
       "    <tr>\n",
       "      <th>min</th>\n",
       "      <td>0.00</td>\n",
       "      <td>0.00</td>\n",
       "    </tr>\n",
       "    <tr>\n",
       "      <th>25%</th>\n",
       "      <td>1458.46</td>\n",
       "      <td>667.01</td>\n",
       "    </tr>\n",
       "    <tr>\n",
       "      <th>50%</th>\n",
       "      <td>2443.00</td>\n",
       "      <td>1256.55</td>\n",
       "    </tr>\n",
       "    <tr>\n",
       "      <th>75%</th>\n",
       "      <td>3747.90</td>\n",
       "      <td>2146.96</td>\n",
       "    </tr>\n",
       "    <tr>\n",
       "      <th>max</th>\n",
       "      <td>15514.30</td>\n",
       "      <td>9613.98</td>\n",
       "    </tr>\n",
       "  </tbody>\n",
       "</table>\n",
       "</div>"
      ],
      "text/plain": [
       "Treatment                    0          1\n",
       "dist_cf_m     count     982.00     598.00\n",
       "              mean     9852.79    1601.89\n",
       "              std     17790.72    1364.02\n",
       "              min         0.00       0.00\n",
       "              25%      1838.67     667.67\n",
       "              50%      3015.86    1268.91\n",
       "              75%      9182.92    2169.25\n",
       "              max    102656.87    9613.98\n",
       "dist_fa_m     count     982.00     598.00\n",
       "              mean    16360.28   23963.89\n",
       "              std     18446.15   20139.60\n",
       "              min         0.00     231.33\n",
       "              25%      4181.37   10051.96\n",
       "              50%      9899.75   18191.17\n",
       "              75%     21988.08   32477.26\n",
       "              max    164809.80  165894.83\n",
       "dist_forest_m count     982.00     598.00\n",
       "              mean     2980.22    1565.88\n",
       "              std      2303.01    1312.31\n",
       "              min         0.00       0.00\n",
       "              25%      1458.46     667.01\n",
       "              50%      2443.00    1256.55\n",
       "              75%      3747.90    2146.96\n",
       "              max     15514.30    9613.98"
      ]
     },
     "execution_count": 89,
     "metadata": {},
     "output_type": "execute_result"
    }
   ],
   "source": [
    "vlgs3.drop(['NUMBER', 'PHUMCODE'], axis=1).groupby('Treatment').describe().round(2).transpose()"
   ]
  },
  {
   "cell_type": "code",
   "execution_count": null,
   "id": "84c822ca-f27d-4182-aa14-6da7616ed406",
   "metadata": {},
   "outputs": [],
   "source": []
  }
 ],
 "metadata": {
  "kernelspec": {
   "display_name": "Python 3 (ipykernel)",
   "language": "python",
   "name": "python3"
  },
  "language_info": {
   "codemirror_mode": {
    "name": "ipython",
    "version": 3
   },
   "file_extension": ".py",
   "mimetype": "text/x-python",
   "name": "python",
   "nbconvert_exporter": "python",
   "pygments_lexer": "ipython3",
   "version": "3.12.7"
  }
 },
 "nbformat": 4,
 "nbformat_minor": 5
}
