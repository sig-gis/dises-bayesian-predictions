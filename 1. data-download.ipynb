{
 "cells": [
  {
   "cell_type": "markdown",
   "id": "5cd45f63-ad53-4e32-af22-e88dfb253cd8",
   "metadata": {},
   "source": [
    "### Download initial data"
   ]
  },
  {
   "cell_type": "code",
   "execution_count": 1,
   "id": "bb6bd6a9-7df7-43c3-8962-c768aca416c4",
   "metadata": {
    "tags": []
   },
   "outputs": [
    {
     "ename": "ModuleNotFoundError",
     "evalue": "No module named 'googleapiclient'",
     "output_type": "error",
     "traceback": [
      "\u001b[0;31m---------------------------------------------------------------------------\u001b[0m",
      "\u001b[0;31mModuleNotFoundError\u001b[0m                       Traceback (most recent call last)",
      "\u001b[0;32m/var/folders/wn/vzyjwy2x00q4stf523pr30jw0000gn/T/ipykernel_35222/2338773444.py\u001b[0m in \u001b[0;36m<module>\u001b[0;34m\u001b[0m\n\u001b[1;32m      1\u001b[0m \u001b[0;32mimport\u001b[0m \u001b[0mos\u001b[0m\u001b[0;34m\u001b[0m\u001b[0m\n\u001b[1;32m      2\u001b[0m \u001b[0;32mfrom\u001b[0m \u001b[0mgoogle\u001b[0m\u001b[0;34m.\u001b[0m\u001b[0moauth2\u001b[0m \u001b[0;32mimport\u001b[0m \u001b[0mservice_account\u001b[0m\u001b[0;34m\u001b[0m\u001b[0m\n\u001b[0;32m----> 3\u001b[0;31m \u001b[0;32mfrom\u001b[0m \u001b[0mgoogleapiclient\u001b[0m\u001b[0;34m.\u001b[0m\u001b[0mdiscovery\u001b[0m \u001b[0;32mimport\u001b[0m \u001b[0mbuild\u001b[0m\u001b[0;34m\u001b[0m\u001b[0m\n\u001b[0m\u001b[1;32m      4\u001b[0m \u001b[0;32mfrom\u001b[0m \u001b[0mgoogleapiclient\u001b[0m\u001b[0;34m.\u001b[0m\u001b[0mhttp\u001b[0m \u001b[0;32mimport\u001b[0m \u001b[0mMediaIoBaseDownload\u001b[0m\u001b[0;34m\u001b[0m\u001b[0m\n\u001b[1;32m      5\u001b[0m \u001b[0;32mimport\u001b[0m \u001b[0mio\u001b[0m\u001b[0;34m\u001b[0m\u001b[0m\n",
      "\u001b[0;31mModuleNotFoundError\u001b[0m: No module named 'googleapiclient'"
     ]
    }
   ],
   "source": [
    "import os\n",
    "from google.oauth2 import service_account\n",
    "from googleapiclient.discovery import build\n",
    "from googleapiclient.http import MediaIoBaseDownload\n",
    "import io\n",
    "from tqdm import tqdm\n",
    "\n",
    "# Path to your service account file\n",
    "SERVICE_ACCOUNT_FILE = 'client_secrets.json'\n",
    "\n",
    "# Scopes for the Google Drive API\n",
    "SCOPES = ['https://www.googleapis.com/auth/drive']\n",
    "\n",
    "# Authenticate using the service account file\n",
    "credentials = service_account.Credentials.from_service_account_file(\n",
    "    SERVICE_ACCOUNT_FILE, scopes=SCOPES)\n",
    "\n",
    "# Build the service\n",
    "service = build('drive', 'v3', credentials=credentials)\n",
    "\n",
    "def download_file(file_id, file_name, output_dir):\n",
    "    request = service.files().get_media(fileId=file_id)\n",
    "    file_path = os.path.join(output_dir, file_name)\n",
    "    with open(file_path, 'wb') as fh:\n",
    "        downloader = MediaIoBaseDownload(fh, request)\n",
    "        done = False\n",
    "        while done is False:\n",
    "            status, done = downloader.next_chunk()\n",
    "            print(f\"Download {int(status.progress() * 100)}%.\")\n",
    "\n",
    "def download_folder(folder_id, output_dir):\n",
    "    # Create the output directory if it doesn't exist\n",
    "    if not os.path.exists(output_dir):\n",
    "        os.makedirs(output_dir)\n",
    "\n",
    "    # List all files in the folder\n",
    "    query = f\"'{folder_id}' in parents and trashed=false\"\n",
    "    results = service.files().list(q=query, fields=\"files(id, name, mimeType)\").execute()\n",
    "    items = results.get('files', [])\n",
    "\n",
    "    if not items:\n",
    "        print('No files found.')\n",
    "        return\n",
    "\n",
    "    # Loop through the items in the folder\n",
    "    for item in tqdm(items, desc=\"Downloading folder contents\"):\n",
    "        file_name = item['name']\n",
    "        file_id = item['id']\n",
    "        mime_type = item['mimeType']\n",
    "\n",
    "        # If the item is a folder, recursively download it\n",
    "        if mime_type == 'application/vnd.google-apps.folder':\n",
    "            download_folder(file_id, os.path.join(output_dir, file_name))\n",
    "        else:\n",
    "            download_file(file_id, file_name, output_dir)"
   ]
  },
  {
   "cell_type": "code",
   "execution_count": 3,
   "id": "1b41f1cf-605f-4962-a789-ba1be0bd24b0",
   "metadata": {
    "tags": []
   },
   "outputs": [
    {
     "name": "stderr",
     "output_type": "stream",
     "text": [
      "Downloading folder contents:   0%|                                         | 0/2 [00:00<?, ?it/s]\n",
      "Downloading folder contents:   0%|                                         | 0/4 [00:00<?, ?it/s]\u001b[A\n",
      "\n",
      "Downloading folder contents:   0%|                                         | 0/6 [00:00<?, ?it/s]\u001b[A\u001b[A\n",
      "\n",
      "Downloading folder contents:  17%|█████▌                           | 1/6 [00:04<00:21,  4.30s/it]\u001b[A\u001b[A"
     ]
    },
    {
     "name": "stdout",
     "output_type": "stream",
     "text": [
      "Download 100%.\n"
     ]
    },
    {
     "name": "stderr",
     "output_type": "stream",
     "text": [
      "\n",
      "\n",
      "Downloading folder contents:  33%|███████████                      | 2/6 [00:08<00:16,  4.04s/it]\u001b[A\u001b[A"
     ]
    },
    {
     "name": "stdout",
     "output_type": "stream",
     "text": [
      "Download 100%.\n"
     ]
    },
    {
     "name": "stderr",
     "output_type": "stream",
     "text": [
      "\n",
      "\n",
      "Downloading folder contents:  50%|████████████████▌                | 3/6 [00:12<00:12,  4.05s/it]\u001b[A\u001b[A"
     ]
    },
    {
     "name": "stdout",
     "output_type": "stream",
     "text": [
      "Download 100%.\n"
     ]
    },
    {
     "name": "stderr",
     "output_type": "stream",
     "text": [
      "\n",
      "\n",
      "Downloading folder contents:  67%|██████████████████████           | 4/6 [00:16<00:08,  4.09s/it]\u001b[A\u001b[A"
     ]
    },
    {
     "name": "stdout",
     "output_type": "stream",
     "text": [
      "Download 100%.\n"
     ]
    },
    {
     "name": "stderr",
     "output_type": "stream",
     "text": [
      "\n",
      "\n",
      "Downloading folder contents:  83%|███████████████████████████▌     | 5/6 [00:20<00:04,  4.17s/it]\u001b[A\u001b[A"
     ]
    },
    {
     "name": "stdout",
     "output_type": "stream",
     "text": [
      "Download 100%.\n"
     ]
    },
    {
     "name": "stderr",
     "output_type": "stream",
     "text": [
      "\n",
      "\n",
      "Downloading folder contents: 100%|█████████████████████████████████| 6/6 [00:25<00:00,  4.19s/it]\u001b[A\u001b[A\n",
      "\n",
      "Downloading folder contents:  25%|████████▎                        | 1/4 [00:25<01:16, 25.53s/it]\u001b[A"
     ]
    },
    {
     "name": "stdout",
     "output_type": "stream",
     "text": [
      "Download 100%.\n"
     ]
    },
    {
     "name": "stderr",
     "output_type": "stream",
     "text": [
      "\n",
      "\n",
      "Downloading folder contents:   0%|                                         | 0/5 [00:00<?, ?it/s]\u001b[A\u001b[A\n",
      "\n",
      "Downloading folder contents:  20%|██████▌                          | 1/5 [00:04<00:17,  4.28s/it]\u001b[A\u001b[A"
     ]
    },
    {
     "name": "stdout",
     "output_type": "stream",
     "text": [
      "Download 100%.\n"
     ]
    },
    {
     "name": "stderr",
     "output_type": "stream",
     "text": [
      "\n",
      "\n",
      "Downloading folder contents:  40%|█████████████▏                   | 2/5 [00:08<00:12,  4.30s/it]\u001b[A\u001b[A"
     ]
    },
    {
     "name": "stdout",
     "output_type": "stream",
     "text": [
      "Download 100%.\n"
     ]
    },
    {
     "name": "stderr",
     "output_type": "stream",
     "text": [
      "\n",
      "\n",
      "Downloading folder contents:  60%|███████████████████▊             | 3/5 [00:13<00:08,  4.40s/it]\u001b[A\u001b[A"
     ]
    },
    {
     "name": "stdout",
     "output_type": "stream",
     "text": [
      "Download 100%.\n"
     ]
    },
    {
     "name": "stderr",
     "output_type": "stream",
     "text": [
      "\n",
      "\n",
      "Downloading folder contents:  80%|██████████████████████████▍      | 4/5 [00:23<00:06,  6.91s/it]\u001b[A\u001b[A"
     ]
    },
    {
     "name": "stdout",
     "output_type": "stream",
     "text": [
      "Download 100%.\n"
     ]
    },
    {
     "name": "stderr",
     "output_type": "stream",
     "text": [
      "\n",
      "\n",
      "Downloading folder contents: 100%|█████████████████████████████████| 5/5 [00:28<00:00,  5.65s/it]\u001b[A\u001b[A\n",
      "\n",
      "Downloading folder contents:  50%|████████████████▌                | 2/4 [00:54<00:54, 27.36s/it]\u001b[A"
     ]
    },
    {
     "name": "stdout",
     "output_type": "stream",
     "text": [
      "Download 100%.\n"
     ]
    },
    {
     "name": "stderr",
     "output_type": "stream",
     "text": [
      "\n",
      "\n",
      "Downloading folder contents:   0%|                                         | 0/1 [00:00<?, ?it/s]\u001b[A\u001b[A\n",
      "\n",
      "\n",
      "Downloading folder contents:   0%|                                         | 0/5 [00:00<?, ?it/s]\u001b[A\u001b[A\u001b[A\n",
      "\n",
      "\n",
      "Downloading folder contents:  20%|██████▌                          | 1/5 [00:04<00:17,  4.33s/it]\u001b[A\u001b[A\u001b[A"
     ]
    },
    {
     "name": "stdout",
     "output_type": "stream",
     "text": [
      "Download 100%.\n"
     ]
    },
    {
     "name": "stderr",
     "output_type": "stream",
     "text": [
      "\n",
      "\n",
      "\n",
      "Downloading folder contents:  40%|█████████████▏                   | 2/5 [00:08<00:13,  4.42s/it]\u001b[A\u001b[A\u001b[A"
     ]
    },
    {
     "name": "stdout",
     "output_type": "stream",
     "text": [
      "Download 100%.\n"
     ]
    },
    {
     "name": "stderr",
     "output_type": "stream",
     "text": [
      "\n",
      "\n",
      "\n",
      "Downloading folder contents:  60%|███████████████████▊             | 3/5 [00:13<00:08,  4.38s/it]\u001b[A\u001b[A\u001b[A"
     ]
    },
    {
     "name": "stdout",
     "output_type": "stream",
     "text": [
      "Download 100%.\n"
     ]
    },
    {
     "name": "stderr",
     "output_type": "stream",
     "text": [
      "\n",
      "\n",
      "\n",
      "Downloading folder contents:  80%|██████████████████████████▍      | 4/5 [00:17<00:04,  4.31s/it]\u001b[A\u001b[A\u001b[A"
     ]
    },
    {
     "name": "stdout",
     "output_type": "stream",
     "text": [
      "Download 100%.\n"
     ]
    },
    {
     "name": "stderr",
     "output_type": "stream",
     "text": [
      "\n",
      "\n",
      "\n",
      "Downloading folder contents: 100%|█████████████████████████████████| 5/5 [00:21<00:00,  4.25s/it]\u001b[A\u001b[A\u001b[A\n",
      "\n",
      "\n",
      "Downloading folder contents: 100%|█████████████████████████████████| 1/1 [00:21<00:00, 21.61s/it]\u001b[A\u001b[A\n",
      "\n",
      "Downloading folder contents:  75%|████████████████████████▊        | 3/4 [01:16<00:24, 24.97s/it]\u001b[A"
     ]
    },
    {
     "name": "stdout",
     "output_type": "stream",
     "text": [
      "Download 100%.\n"
     ]
    },
    {
     "name": "stderr",
     "output_type": "stream",
     "text": [
      "\n",
      "\n",
      "Downloading folder contents:   0%|                                         | 0/3 [00:00<?, ?it/s]\u001b[A\u001b[A\n",
      "\n",
      "Downloading folder contents:  33%|███████████                      | 1/3 [00:04<00:08,  4.40s/it]\u001b[A\u001b[A"
     ]
    },
    {
     "name": "stdout",
     "output_type": "stream",
     "text": [
      "Download 100%.\n"
     ]
    },
    {
     "name": "stderr",
     "output_type": "stream",
     "text": [
      "\n",
      "\n",
      "Downloading folder contents:  67%|██████████████████████           | 2/3 [00:08<00:04,  4.51s/it]\u001b[A\u001b[A"
     ]
    },
    {
     "name": "stdout",
     "output_type": "stream",
     "text": [
      "Download 100%.\n"
     ]
    },
    {
     "name": "stderr",
     "output_type": "stream",
     "text": [
      "\n",
      "\n",
      "Downloading folder contents: 100%|█████████████████████████████████| 3/3 [00:15<00:00,  5.02s/it]\u001b[A\u001b[A\n",
      "\n",
      "Downloading folder contents: 100%|█████████████████████████████████| 4/4 [01:31<00:00, 22.94s/it]\u001b[A\n",
      "Downloading folder contents:  50%|████████████████▌                | 1/2 [01:32<01:32, 92.29s/it]"
     ]
    },
    {
     "name": "stdout",
     "output_type": "stream",
     "text": [
      "Download 100%.\n"
     ]
    },
    {
     "name": "stderr",
     "output_type": "stream",
     "text": [
      "\n",
      "Downloading folder contents:   0%|                                         | 0/1 [00:00<?, ?it/s]\u001b[A\n",
      "\n",
      "Downloading folder contents:   0%|                                         | 0/4 [00:00<?, ?it/s]\u001b[A\u001b[A\n",
      "\n",
      "Downloading folder contents:  25%|████████▎                        | 1/4 [00:05<00:16,  5.40s/it]\u001b[A\u001b[A"
     ]
    },
    {
     "name": "stdout",
     "output_type": "stream",
     "text": [
      "Download 100%.\n"
     ]
    },
    {
     "name": "stderr",
     "output_type": "stream",
     "text": [
      "\n",
      "\n",
      "Downloading folder contents:  50%|████████████████▌                | 2/4 [00:15<00:16,  8.19s/it]\u001b[A\u001b[A"
     ]
    },
    {
     "name": "stdout",
     "output_type": "stream",
     "text": [
      "Download 100%.\n"
     ]
    },
    {
     "name": "stderr",
     "output_type": "stream",
     "text": [
      "\n",
      "\n",
      "Downloading folder contents:  75%|████████████████████████▊        | 3/4 [00:19<00:06,  6.44s/it]\u001b[A\u001b[A"
     ]
    },
    {
     "name": "stdout",
     "output_type": "stream",
     "text": [
      "Download 100%.\n"
     ]
    },
    {
     "name": "stderr",
     "output_type": "stream",
     "text": [
      "\n",
      "\n",
      "Downloading folder contents: 100%|█████████████████████████████████| 4/4 [00:27<00:00,  6.87s/it]\u001b[A\u001b[A\n",
      "\n",
      "Downloading folder contents: 100%|█████████████████████████████████| 1/1 [00:27<00:00, 27.97s/it]\u001b[A\n",
      "Downloading folder contents: 100%|█████████████████████████████████| 2/2 [02:00<00:00, 60.31s/it]"
     ]
    },
    {
     "name": "stdout",
     "output_type": "stream",
     "text": [
      "Download 100%.\n"
     ]
    },
    {
     "name": "stderr",
     "output_type": "stream",
     "text": [
      "\n"
     ]
    }
   ],
   "source": [
    "# Set the folder ID and output directory\n",
    "folder_id = '1v0UcmutNb9geRvzaftmATqRx06VmI-jj'\n",
    "output_dir = 'data'\n",
    "\n",
    "# Download the folder\n",
    "download_folder(folder_id, output_dir)"
   ]
  },
  {
   "cell_type": "code",
   "execution_count": null,
   "id": "66d69234-2580-416d-ab0f-1df076a1dea2",
   "metadata": {},
   "outputs": [],
   "source": []
  }
 ],
 "metadata": {
  "environment": {
   "kernel": "pymc_env",
   "name": "workbench-notebooks.m124",
   "type": "gcloud",
   "uri": "us-docker.pkg.dev/deeplearning-platform-release/gcr.io/workbench-notebooks:m124"
  },
  "kernelspec": {
   "display_name": "Python 3 (ipykernel)",
   "language": "python",
   "name": "python3"
  },
  "language_info": {
   "codemirror_mode": {
    "name": "ipython",
    "version": 3
   },
   "file_extension": ".py",
   "mimetype": "text/x-python",
   "name": "python",
   "nbconvert_exporter": "python",
   "pygments_lexer": "ipython3",
   "version": "3.7.0"
  }
 },
 "nbformat": 4,
 "nbformat_minor": 5
}
